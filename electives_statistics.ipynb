{
 "cells": [
  {
   "cell_type": "markdown",
   "metadata": {},
   "source": [
    "# Electives 6,7 statistics \n",
    "by: Ahmed Elsarta"
   ]
  },
  {
   "cell_type": "code",
   "execution_count": 1,
   "metadata": {},
   "outputs": [
    {
     "data": {
      "text/html": [
       "<div>\n",
       "<style scoped>\n",
       "    .dataframe tbody tr th:only-of-type {\n",
       "        vertical-align: middle;\n",
       "    }\n",
       "\n",
       "    .dataframe tbody tr th {\n",
       "        vertical-align: top;\n",
       "    }\n",
       "\n",
       "    .dataframe thead th {\n",
       "        text-align: right;\n",
       "    }\n",
       "</style>\n",
       "<table border=\"1\" class=\"dataframe\">\n",
       "  <thead>\n",
       "    <tr style=\"text-align: right;\">\n",
       "      <th></th>\n",
       "      <th>Choose 2 s</th>\n",
       "    </tr>\n",
       "  </thead>\n",
       "  <tbody>\n",
       "    <tr>\n",
       "      <th>0</th>\n",
       "      <td>A, B</td>\n",
       "    </tr>\n",
       "    <tr>\n",
       "      <th>1</th>\n",
       "      <td>A, B</td>\n",
       "    </tr>\n",
       "    <tr>\n",
       "      <th>2</th>\n",
       "      <td>A, C</td>\n",
       "    </tr>\n",
       "    <tr>\n",
       "      <th>3</th>\n",
       "      <td>A, D</td>\n",
       "    </tr>\n",
       "    <tr>\n",
       "      <th>4</th>\n",
       "      <td>A, D</td>\n",
       "    </tr>\n",
       "    <tr>\n",
       "      <th>...</th>\n",
       "      <td>...</td>\n",
       "    </tr>\n",
       "    <tr>\n",
       "      <th>82</th>\n",
       "      <td>D, E</td>\n",
       "    </tr>\n",
       "    <tr>\n",
       "      <th>83</th>\n",
       "      <td>D, E</td>\n",
       "    </tr>\n",
       "    <tr>\n",
       "      <th>84</th>\n",
       "      <td>D, E</td>\n",
       "    </tr>\n",
       "    <tr>\n",
       "      <th>85</th>\n",
       "      <td>D, E</td>\n",
       "    </tr>\n",
       "    <tr>\n",
       "      <th>86</th>\n",
       "      <td>D, E</td>\n",
       "    </tr>\n",
       "  </tbody>\n",
       "</table>\n",
       "<p>87 rows × 1 columns</p>\n",
       "</div>"
      ],
      "text/plain": [
       "   Choose 2 s\n",
       "0        A, B\n",
       "1        A, B\n",
       "2        A, C\n",
       "3        A, D\n",
       "4        A, D\n",
       "..        ...\n",
       "82       D, E\n",
       "83       D, E\n",
       "84       D, E\n",
       "85       D, E\n",
       "86       D, E\n",
       "\n",
       "[87 rows x 1 columns]"
      ]
     },
     "execution_count": 1,
     "metadata": {},
     "output_type": "execute_result"
    }
   ],
   "source": [
    "import numpy as np\n",
    "import pandas as pd\n",
    "import itertools\n",
    "#import csv file\n",
    "electives_survey = pd.read_csv('electives_survey.csv')\n",
    "preferences = electives_survey[[\"Choose 2 s\"]].copy()\n",
    "preferences"
   ]
  },
  {
   "cell_type": "code",
   "execution_count": 2,
   "metadata": {},
   "outputs": [],
   "source": [
    "# #Split preferences column into two columns separated by comma\n",
    "preferences = preferences[\"Choose 2 s\"].str.split(',', expand=True)\n",
    "# rename columns to 1st and 2nd\n",
    "preferences = preferences.rename(columns={0: '1st', 1: '2nd'})\n",
    "# strip spaces from all columns\n",
    "preferences = preferences.apply(lambda x: x.str.strip() if x.dtype == \"object\" else x)\n",
    "# create copy of preferences for safekeeping\n",
    "original_preferences = preferences.copy()"
   ]
  },
  {
   "cell_type": "code",
   "execution_count": 3,
   "metadata": {},
   "outputs": [],
   "source": [
    "cols = preferences.columns\n",
    "sorted_preferences = pd.DataFrame(np.sort(preferences.values, axis=1), columns=cols, index=preferences.index)\n",
    "# group preferences by 2 columns\n",
    "choices = preferences.copy().groupby(['1st', '2nd']).size().reset_index(name='count')\n",
    "# sort the preferences \n",
    "choices = choices.sort_values(by=['count'], ascending=False)\n",
    "# show preferences\n",
    "# sorted_preferences"
   ]
  },
  {
   "cell_type": "code",
   "execution_count": 4,
   "metadata": {},
   "outputs": [],
   "source": [
    "# calculate ratio of rows where both instances belong to input set\n",
    "def calculate_satisfaction(first_group, second_group):\n",
    "    # get all rows where both instances belong to input set\n",
    "    both = sorted_preferences[(sorted_preferences['1st'].isin(first_group)) & (sorted_preferences['2nd'].isin(second_group))]\n",
    "    # get all rows where only one instance belongs to input set\n",
    "    either = sorted_preferences[(sorted_preferences['1st'].isin(first_group)) ^ (sorted_preferences['2nd'].isin(second_group))]\n",
    "    # calculate ratio of rows where both instances belong to input set\n",
    "    ratio = len(both) / (len(both) + len(either))\n",
    "    return ratio*100"
   ]
  },
  {
   "cell_type": "code",
   "execution_count": 5,
   "metadata": {},
   "outputs": [
    {
     "name": "stdout",
     "output_type": "stream",
     "text": [
      "The satisfaction ratio is 67.24137931034483 %\n"
     ]
    }
   ],
   "source": [
    "first_group = {'D', 'C'}\n",
    "second_group = {'A', 'B', 'E'}\n",
    "\n",
    "satisfaction_ratio = calculate_satisfaction(first_group, second_group)\n",
    "\n",
    "print(\"The satisfaction ratio is\", satisfaction_ratio, \"%\")"
   ]
  },
  {
   "cell_type": "code",
   "execution_count": 6,
   "metadata": {},
   "outputs": [
    {
     "name": "stdout",
     "output_type": "stream",
     "text": [
      "[('A', 'B', 'C', 'D', 'E'), ('A', 'B', 'C', 'E', 'D'), ('A', 'B', 'D', 'C', 'E'), ('A', 'B', 'D', 'E', 'C'), ('A', 'B', 'E', 'C', 'D'), ('A', 'B', 'E', 'D', 'C'), ('A', 'C', 'B', 'D', 'E'), ('A', 'C', 'B', 'E', 'D'), ('A', 'C', 'D', 'B', 'E'), ('A', 'C', 'D', 'E', 'B'), ('A', 'C', 'E', 'B', 'D'), ('A', 'C', 'E', 'D', 'B'), ('A', 'D', 'B', 'C', 'E'), ('A', 'D', 'B', 'E', 'C'), ('A', 'D', 'C', 'B', 'E'), ('A', 'D', 'C', 'E', 'B'), ('A', 'D', 'E', 'B', 'C'), ('A', 'D', 'E', 'C', 'B'), ('A', 'E', 'B', 'C', 'D'), ('A', 'E', 'B', 'D', 'C'), ('A', 'E', 'C', 'B', 'D'), ('A', 'E', 'C', 'D', 'B'), ('A', 'E', 'D', 'B', 'C'), ('A', 'E', 'D', 'C', 'B'), ('B', 'A', 'C', 'D', 'E'), ('B', 'A', 'C', 'E', 'D'), ('B', 'A', 'D', 'C', 'E'), ('B', 'A', 'D', 'E', 'C'), ('B', 'A', 'E', 'C', 'D'), ('B', 'A', 'E', 'D', 'C'), ('B', 'C', 'A', 'D', 'E'), ('B', 'C', 'A', 'E', 'D'), ('B', 'C', 'D', 'A', 'E'), ('B', 'C', 'D', 'E', 'A'), ('B', 'C', 'E', 'A', 'D'), ('B', 'C', 'E', 'D', 'A'), ('B', 'D', 'A', 'C', 'E'), ('B', 'D', 'A', 'E', 'C'), ('B', 'D', 'C', 'A', 'E'), ('B', 'D', 'C', 'E', 'A'), ('B', 'D', 'E', 'A', 'C'), ('B', 'D', 'E', 'C', 'A'), ('B', 'E', 'A', 'C', 'D'), ('B', 'E', 'A', 'D', 'C'), ('B', 'E', 'C', 'A', 'D'), ('B', 'E', 'C', 'D', 'A'), ('B', 'E', 'D', 'A', 'C'), ('B', 'E', 'D', 'C', 'A'), ('C', 'A', 'B', 'D', 'E'), ('C', 'A', 'B', 'E', 'D'), ('C', 'A', 'D', 'B', 'E'), ('C', 'A', 'D', 'E', 'B'), ('C', 'A', 'E', 'B', 'D'), ('C', 'A', 'E', 'D', 'B'), ('C', 'B', 'A', 'D', 'E'), ('C', 'B', 'A', 'E', 'D'), ('C', 'B', 'D', 'A', 'E'), ('C', 'B', 'D', 'E', 'A'), ('C', 'B', 'E', 'A', 'D'), ('C', 'B', 'E', 'D', 'A'), ('C', 'D', 'A', 'B', 'E'), ('C', 'D', 'A', 'E', 'B'), ('C', 'D', 'B', 'A', 'E'), ('C', 'D', 'B', 'E', 'A'), ('C', 'D', 'E', 'A', 'B'), ('C', 'D', 'E', 'B', 'A'), ('C', 'E', 'A', 'B', 'D'), ('C', 'E', 'A', 'D', 'B'), ('C', 'E', 'B', 'A', 'D'), ('C', 'E', 'B', 'D', 'A'), ('C', 'E', 'D', 'A', 'B'), ('C', 'E', 'D', 'B', 'A'), ('D', 'A', 'B', 'C', 'E'), ('D', 'A', 'B', 'E', 'C'), ('D', 'A', 'C', 'B', 'E'), ('D', 'A', 'C', 'E', 'B'), ('D', 'A', 'E', 'B', 'C'), ('D', 'A', 'E', 'C', 'B'), ('D', 'B', 'A', 'C', 'E'), ('D', 'B', 'A', 'E', 'C'), ('D', 'B', 'C', 'A', 'E'), ('D', 'B', 'C', 'E', 'A'), ('D', 'B', 'E', 'A', 'C'), ('D', 'B', 'E', 'C', 'A'), ('D', 'C', 'A', 'B', 'E'), ('D', 'C', 'A', 'E', 'B'), ('D', 'C', 'B', 'A', 'E'), ('D', 'C', 'B', 'E', 'A'), ('D', 'C', 'E', 'A', 'B'), ('D', 'C', 'E', 'B', 'A'), ('D', 'E', 'A', 'B', 'C'), ('D', 'E', 'A', 'C', 'B'), ('D', 'E', 'B', 'A', 'C'), ('D', 'E', 'B', 'C', 'A'), ('D', 'E', 'C', 'A', 'B'), ('D', 'E', 'C', 'B', 'A'), ('E', 'A', 'B', 'C', 'D'), ('E', 'A', 'B', 'D', 'C'), ('E', 'A', 'C', 'B', 'D'), ('E', 'A', 'C', 'D', 'B'), ('E', 'A', 'D', 'B', 'C'), ('E', 'A', 'D', 'C', 'B'), ('E', 'B', 'A', 'C', 'D'), ('E', 'B', 'A', 'D', 'C'), ('E', 'B', 'C', 'A', 'D'), ('E', 'B', 'C', 'D', 'A'), ('E', 'B', 'D', 'A', 'C'), ('E', 'B', 'D', 'C', 'A'), ('E', 'C', 'A', 'B', 'D'), ('E', 'C', 'A', 'D', 'B'), ('E', 'C', 'B', 'A', 'D'), ('E', 'C', 'B', 'D', 'A'), ('E', 'C', 'D', 'A', 'B'), ('E', 'C', 'D', 'B', 'A'), ('E', 'D', 'A', 'B', 'C'), ('E', 'D', 'A', 'C', 'B'), ('E', 'D', 'B', 'A', 'C'), ('E', 'D', 'B', 'C', 'A'), ('E', 'D', 'C', 'A', 'B'), ('E', 'D', 'C', 'B', 'A')]\n"
     ]
    }
   ],
   "source": [
    "# generating all possible permutations\n",
    "permutations = list(itertools.permutations(['A', 'B', 'C', 'D', 'E']))\n",
    "print(permutations)"
   ]
  },
  {
   "cell_type": "code",
   "execution_count": 7,
   "metadata": {},
   "outputs": [
    {
     "name": "stdout",
     "output_type": "stream",
     "text": [
      "41.37931034482759\n"
     ]
    }
   ],
   "source": [
    "# calculate satisfaction ratio for first permutation as test\\\n",
    "satisfaction_result = calculate_satisfaction(permutations[0][0:2], permutations[0][2:5])\n",
    "print(satisfaction_result)"
   ]
  },
  {
   "cell_type": "code",
   "execution_count": 8,
   "metadata": {},
   "outputs": [
    {
     "name": "stdout",
     "output_type": "stream",
     "text": [
      "{('A', 'B', 'C', 'D', 'E'): 41.37931034482759, ('A', 'B', 'C', 'E', 'D'): 41.37931034482759, ('A', 'B', 'D', 'C', 'E'): 41.37931034482759, ('A', 'B', 'D', 'E', 'C'): 41.37931034482759, ('A', 'B', 'E', 'C', 'D'): 41.37931034482759, ('A', 'B', 'E', 'D', 'C'): 41.37931034482759, ('A', 'C', 'B', 'D', 'E'): 36.7816091954023, ('A', 'C', 'B', 'E', 'D'): 36.7816091954023, ('A', 'C', 'D', 'B', 'E'): 36.7816091954023, ('A', 'C', 'D', 'E', 'B'): 36.7816091954023, ('A', 'C', 'E', 'B', 'D'): 36.7816091954023, ('A', 'C', 'E', 'D', 'B'): 36.7816091954023, ('A', 'D', 'B', 'C', 'E'): 62.121212121212125, ('A', 'D', 'B', 'E', 'C'): 62.121212121212125, ('A', 'D', 'C', 'B', 'E'): 62.121212121212125, ('A', 'D', 'C', 'E', 'B'): 62.121212121212125, ('A', 'D', 'E', 'B', 'C'): 62.121212121212125, ('A', 'D', 'E', 'C', 'B'): 62.121212121212125, ('A', 'E', 'B', 'C', 'D'): 47.61904761904761, ('A', 'E', 'B', 'D', 'C'): 47.61904761904761, ('A', 'E', 'C', 'B', 'D'): 47.61904761904761, ('A', 'E', 'C', 'D', 'B'): 47.61904761904761, ('A', 'E', 'D', 'B', 'C'): 47.61904761904761, ('A', 'E', 'D', 'C', 'B'): 47.61904761904761, ('B', 'A', 'C', 'D', 'E'): 41.37931034482759, ('B', 'A', 'C', 'E', 'D'): 41.37931034482759, ('B', 'A', 'D', 'C', 'E'): 41.37931034482759, ('B', 'A', 'D', 'E', 'C'): 41.37931034482759, ('B', 'A', 'E', 'C', 'D'): 41.37931034482759, ('B', 'A', 'E', 'D', 'C'): 41.37931034482759, ('B', 'C', 'A', 'D', 'E'): 34.523809523809526, ('B', 'C', 'A', 'E', 'D'): 34.523809523809526, ('B', 'C', 'D', 'A', 'E'): 34.523809523809526, ('B', 'C', 'D', 'E', 'A'): 34.523809523809526, ('B', 'C', 'E', 'A', 'D'): 34.523809523809526, ('B', 'C', 'E', 'D', 'A'): 34.523809523809526, ('B', 'D', 'A', 'C', 'E'): 74.13793103448276, ('B', 'D', 'A', 'E', 'C'): 74.13793103448276, ('B', 'D', 'C', 'A', 'E'): 74.13793103448276, ('B', 'D', 'C', 'E', 'A'): 74.13793103448276, ('B', 'D', 'E', 'A', 'C'): 74.13793103448276, ('B', 'D', 'E', 'C', 'A'): 74.13793103448276, ('B', 'E', 'A', 'C', 'D'): 24.444444444444443, ('B', 'E', 'A', 'D', 'C'): 24.444444444444443, ('B', 'E', 'C', 'A', 'D'): 24.444444444444443, ('B', 'E', 'C', 'D', 'A'): 24.444444444444443, ('B', 'E', 'D', 'A', 'C'): 24.444444444444443, ('B', 'E', 'D', 'C', 'A'): 24.444444444444443, ('C', 'A', 'B', 'D', 'E'): 36.7816091954023, ('C', 'A', 'B', 'E', 'D'): 36.7816091954023, ('C', 'A', 'D', 'B', 'E'): 36.7816091954023, ('C', 'A', 'D', 'E', 'B'): 36.7816091954023, ('C', 'A', 'E', 'B', 'D'): 36.7816091954023, ('C', 'A', 'E', 'D', 'B'): 36.7816091954023, ('C', 'B', 'A', 'D', 'E'): 34.523809523809526, ('C', 'B', 'A', 'E', 'D'): 34.523809523809526, ('C', 'B', 'D', 'A', 'E'): 34.523809523809526, ('C', 'B', 'D', 'E', 'A'): 34.523809523809526, ('C', 'B', 'E', 'A', 'D'): 34.523809523809526, ('C', 'B', 'E', 'D', 'A'): 34.523809523809526, ('C', 'D', 'A', 'B', 'E'): 67.24137931034483, ('C', 'D', 'A', 'E', 'B'): 67.24137931034483, ('C', 'D', 'B', 'A', 'E'): 67.24137931034483, ('C', 'D', 'B', 'E', 'A'): 67.24137931034483, ('C', 'D', 'E', 'A', 'B'): 67.24137931034483, ('C', 'D', 'E', 'B', 'A'): 67.24137931034483, ('C', 'E', 'A', 'B', 'D'): 23.809523809523807, ('C', 'E', 'A', 'D', 'B'): 23.809523809523807, ('C', 'E', 'B', 'A', 'D'): 23.809523809523807, ('C', 'E', 'B', 'D', 'A'): 23.809523809523807, ('C', 'E', 'D', 'A', 'B'): 23.809523809523807, ('C', 'E', 'D', 'B', 'A'): 23.809523809523807, ('D', 'A', 'B', 'C', 'E'): 62.121212121212125, ('D', 'A', 'B', 'E', 'C'): 62.121212121212125, ('D', 'A', 'C', 'B', 'E'): 62.121212121212125, ('D', 'A', 'C', 'E', 'B'): 62.121212121212125, ('D', 'A', 'E', 'B', 'C'): 62.121212121212125, ('D', 'A', 'E', 'C', 'B'): 62.121212121212125, ('D', 'B', 'A', 'C', 'E'): 74.13793103448276, ('D', 'B', 'A', 'E', 'C'): 74.13793103448276, ('D', 'B', 'C', 'A', 'E'): 74.13793103448276, ('D', 'B', 'C', 'E', 'A'): 74.13793103448276, ('D', 'B', 'E', 'A', 'C'): 74.13793103448276, ('D', 'B', 'E', 'C', 'A'): 74.13793103448276, ('D', 'C', 'A', 'B', 'E'): 67.24137931034483, ('D', 'C', 'A', 'E', 'B'): 67.24137931034483, ('D', 'C', 'B', 'A', 'E'): 67.24137931034483, ('D', 'C', 'B', 'E', 'A'): 67.24137931034483, ('D', 'C', 'E', 'A', 'B'): 67.24137931034483, ('D', 'C', 'E', 'B', 'A'): 67.24137931034483, ('D', 'E', 'A', 'B', 'C'): 0.0, ('D', 'E', 'A', 'C', 'B'): 0.0, ('D', 'E', 'B', 'A', 'C'): 0.0, ('D', 'E', 'B', 'C', 'A'): 0.0, ('D', 'E', 'C', 'A', 'B'): 0.0, ('D', 'E', 'C', 'B', 'A'): 0.0, ('E', 'A', 'B', 'C', 'D'): 47.61904761904761, ('E', 'A', 'B', 'D', 'C'): 47.61904761904761, ('E', 'A', 'C', 'B', 'D'): 47.61904761904761, ('E', 'A', 'C', 'D', 'B'): 47.61904761904761, ('E', 'A', 'D', 'B', 'C'): 47.61904761904761, ('E', 'A', 'D', 'C', 'B'): 47.61904761904761, ('E', 'B', 'A', 'C', 'D'): 24.444444444444443, ('E', 'B', 'A', 'D', 'C'): 24.444444444444443, ('E', 'B', 'C', 'A', 'D'): 24.444444444444443, ('E', 'B', 'C', 'D', 'A'): 24.444444444444443, ('E', 'B', 'D', 'A', 'C'): 24.444444444444443, ('E', 'B', 'D', 'C', 'A'): 24.444444444444443, ('E', 'C', 'A', 'B', 'D'): 23.809523809523807, ('E', 'C', 'A', 'D', 'B'): 23.809523809523807, ('E', 'C', 'B', 'A', 'D'): 23.809523809523807, ('E', 'C', 'B', 'D', 'A'): 23.809523809523807, ('E', 'C', 'D', 'A', 'B'): 23.809523809523807, ('E', 'C', 'D', 'B', 'A'): 23.809523809523807, ('E', 'D', 'A', 'B', 'C'): 0.0, ('E', 'D', 'A', 'C', 'B'): 0.0, ('E', 'D', 'B', 'A', 'C'): 0.0, ('E', 'D', 'B', 'C', 'A'): 0.0, ('E', 'D', 'C', 'A', 'B'): 0.0, ('E', 'D', 'C', 'B', 'A'): 0.0}\n"
     ]
    }
   ],
   "source": [
    "# calculate satisfaction for all permutations\n",
    "satisfaction_results = {}\n",
    "for permutation in permutations:\n",
    "    satisfaction_result = calculate_satisfaction(permutation[0:2], permutation[2:5])\n",
    "    satisfaction_results.update({permutation: satisfaction_result})\n",
    "# display results\n",
    "print(satisfaction_results)\n"
   ]
  },
  {
   "cell_type": "code",
   "execution_count": 9,
   "metadata": {},
   "outputs": [],
   "source": [
    "# convert results to pandas dataframe and describe it\n",
    "satisfaction_results_df = pd.DataFrame(list(satisfaction_results.items()),columns = ['Permutation','Satisfaction Ratio'])\n",
    "# drop records with exact same satisfaction ratio\n",
    "satisfaction_results_df = satisfaction_results_df.drop_duplicates(subset =\"Satisfaction Ratio\", keep = \"first\")\n",
    "# sort table by satisfaction ratio\n",
    "satisfaction_results_df = satisfaction_results_df.sort_values(by=['Satisfaction Ratio'], ascending=False)"
   ]
  },
  {
   "cell_type": "code",
   "execution_count": 10,
   "metadata": {},
   "outputs": [
    {
     "data": {
      "text/html": [
       "<div>\n",
       "<style scoped>\n",
       "    .dataframe tbody tr th:only-of-type {\n",
       "        vertical-align: middle;\n",
       "    }\n",
       "\n",
       "    .dataframe tbody tr th {\n",
       "        vertical-align: top;\n",
       "    }\n",
       "\n",
       "    .dataframe thead th {\n",
       "        text-align: right;\n",
       "    }\n",
       "</style>\n",
       "<table border=\"1\" class=\"dataframe\">\n",
       "  <thead>\n",
       "    <tr style=\"text-align: right;\">\n",
       "      <th></th>\n",
       "      <th>Permutation</th>\n",
       "      <th>Satisfaction Ratio</th>\n",
       "    </tr>\n",
       "  </thead>\n",
       "  <tbody>\n",
       "    <tr>\n",
       "      <th>36</th>\n",
       "      <td>(B, D, A, C, E)</td>\n",
       "      <td>74.137931</td>\n",
       "    </tr>\n",
       "    <tr>\n",
       "      <th>60</th>\n",
       "      <td>(C, D, A, B, E)</td>\n",
       "      <td>67.241379</td>\n",
       "    </tr>\n",
       "    <tr>\n",
       "      <th>12</th>\n",
       "      <td>(A, D, B, C, E)</td>\n",
       "      <td>62.121212</td>\n",
       "    </tr>\n",
       "    <tr>\n",
       "      <th>18</th>\n",
       "      <td>(A, E, B, C, D)</td>\n",
       "      <td>47.619048</td>\n",
       "    </tr>\n",
       "    <tr>\n",
       "      <th>0</th>\n",
       "      <td>(A, B, C, D, E)</td>\n",
       "      <td>41.379310</td>\n",
       "    </tr>\n",
       "    <tr>\n",
       "      <th>6</th>\n",
       "      <td>(A, C, B, D, E)</td>\n",
       "      <td>36.781609</td>\n",
       "    </tr>\n",
       "    <tr>\n",
       "      <th>30</th>\n",
       "      <td>(B, C, A, D, E)</td>\n",
       "      <td>34.523810</td>\n",
       "    </tr>\n",
       "    <tr>\n",
       "      <th>42</th>\n",
       "      <td>(B, E, A, C, D)</td>\n",
       "      <td>24.444444</td>\n",
       "    </tr>\n",
       "    <tr>\n",
       "      <th>66</th>\n",
       "      <td>(C, E, A, B, D)</td>\n",
       "      <td>23.809524</td>\n",
       "    </tr>\n",
       "    <tr>\n",
       "      <th>90</th>\n",
       "      <td>(D, E, A, B, C)</td>\n",
       "      <td>0.000000</td>\n",
       "    </tr>\n",
       "  </tbody>\n",
       "</table>\n",
       "</div>"
      ],
      "text/plain": [
       "        Permutation  Satisfaction Ratio\n",
       "36  (B, D, A, C, E)           74.137931\n",
       "60  (C, D, A, B, E)           67.241379\n",
       "12  (A, D, B, C, E)           62.121212\n",
       "18  (A, E, B, C, D)           47.619048\n",
       "0   (A, B, C, D, E)           41.379310\n",
       "6   (A, C, B, D, E)           36.781609\n",
       "30  (B, C, A, D, E)           34.523810\n",
       "42  (B, E, A, C, D)           24.444444\n",
       "66  (C, E, A, B, D)           23.809524\n",
       "90  (D, E, A, B, C)            0.000000"
      ]
     },
     "execution_count": 10,
     "metadata": {},
     "output_type": "execute_result"
    }
   ],
   "source": [
    "satisfaction_results_df"
   ]
  }
 ],
 "metadata": {
  "kernelspec": {
   "display_name": "Python 3",
   "language": "python",
   "name": "python3"
  },
  "language_info": {
   "codemirror_mode": {
    "name": "ipython",
    "version": 3
   },
   "file_extension": ".py",
   "mimetype": "text/x-python",
   "name": "python",
   "nbconvert_exporter": "python",
   "pygments_lexer": "ipython3",
   "version": "3.11.6"
  }
 },
 "nbformat": 4,
 "nbformat_minor": 2
}
